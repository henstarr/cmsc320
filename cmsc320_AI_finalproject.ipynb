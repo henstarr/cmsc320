{
  "nbformat": 4,
  "nbformat_minor": 0,
  "metadata": {
    "colab": {
      "provenance": []
    },
    "kernelspec": {
      "name": "python3",
      "display_name": "Python 3"
    },
    "language_info": {
      "name": "python"
    }
  },
  "cells": [
    {
      "cell_type": "markdown",
      "source": [
        "# Final Project\n",
        "\n",
        "For the following project, you will be working with a movie dataset. The dataset is [here](https://drive.google.com/file/d/1R53inu8Jcb9GGoyiuVnBMVnO7XvCaJAE/view?usp=drive_link). The dataset columns are as follows:\n",
        "\n",
        "* Title: The movie's title\n",
        "* Genre: The movie's genre\n",
        "* Stars: The number of famous actors in the movie\n",
        "* Runtime: The length of the movie's runtime\n",
        "* Budget: How much was spent on filming the movie (in millions)\n",
        "* Promo: How much money was spent promoting the movie (in millions)\n",
        "* Season: The season in which the movie was released\n",
        "* Rating: The movie's rating\n",
        "* R1: Reviewer 1's review\n",
        "* R1: Reviewer 2's review\n",
        "* R1: Reviewer 3's review\n",
        "\n",
        "And the target variable:\n",
        "\n",
        "* Success: Whether the film was a success or a flop\n",
        "\n",
        "Fill in the answers to questions in the text field, and show your code below."
      ],
      "metadata": {
        "id": "y2MZurcV4Dqo"
      }
    },
    {
      "cell_type": "markdown",
      "source": [
        "# Data loading\n",
        "\n",
        "Load the data"
      ],
      "metadata": {
        "id": "pMd--NtS6UYo"
      }
    },
    {
      "cell_type": "code",
      "source": [
        "import pandas as pd\n",
        "import numpy as np\n",
        "import scipy as sp"
      ],
      "metadata": {
        "id": "1PRwR60vycll"
      },
      "execution_count": 112,
      "outputs": []
    },
    {
      "cell_type": "code",
      "execution_count": 113,
      "metadata": {
        "id": "pPlRDp5R1Di5"
      },
      "outputs": [],
      "source": [
        "df = pd.read_csv(\"/content/CMSC320FinalProjectData.csv\")"
      ]
    },
    {
      "cell_type": "markdown",
      "source": [
        "# Data Cleaning\n",
        "\n",
        "List the three biggest data errors below, with a summary of how you fixed them and why you choose that method:\n",
        "\n",
        "\n",
        "*\n",
        "*\n",
        "*"
      ],
      "metadata": {
        "id": "yH21qcym6a03"
      }
    },
    {
      "cell_type": "code",
      "source": [
        "df.columns"
      ],
      "metadata": {
        "id": "0yQOc-XzzpQQ",
        "outputId": "c26b7d9a-464e-4138-947e-ea489a7be287",
        "colab": {
          "base_uri": "https://localhost:8080/"
        }
      },
      "execution_count": 114,
      "outputs": [
        {
          "output_type": "execute_result",
          "data": {
            "text/plain": [
              "Index(['Unnamed: 0', 'Title', 'Runtime', 'Stars', 'Year', 'Budget', 'Promo',\n",
              "       'Season', 'Rating', 'Genre', 'R1', 'R2', 'R3', 'Success'],\n",
              "      dtype='object')"
            ]
          },
          "metadata": {},
          "execution_count": 114
        }
      ]
    },
    {
      "cell_type": "markdown",
      "source": [
        "One of the biggest data errors was certain movies having a runtime of 0 minutes. To fix this I thought it would be appropriate to perform a mode imputation with the runtimes for the specific genre that the given movie is in."
      ],
      "metadata": {
        "id": "nUj11owyzz_0"
      }
    },
    {
      "cell_type": "code",
      "source": [
        "zero_runtime = df[df['Runtime'] == 0]\n",
        "\n",
        "for index, row in zero_runtime.iterrows():\n",
        "    genre = row['Genre']\n",
        "    genre_mode = df[df['Genre'] == genre]['Runtime'].mode().values\n",
        "    if len(genre_mode) > 0:\n",
        "        df.at[index, 'Runtime'] = genre_mode[0]"
      ],
      "metadata": {
        "id": "bNLnmnpV4DUY"
      },
      "execution_count": 115,
      "outputs": []
    },
    {
      "cell_type": "markdown",
      "source": [
        "Another data error was the budget not being represented in terms of millions. To fix this, I filtered the dataframe by entries that had the budget greater than 5000, then I applied a function that transformed the budget into terms of millions."
      ],
      "metadata": {
        "id": "uDL7SIFw16PN"
      }
    },
    {
      "cell_type": "code",
      "source": [
        "fildf = df[df[\"Budget\"] > 5000]\n",
        "\n",
        "def transform_to_millions(budget):\n",
        "    return budget / 1000000\n",
        "\n",
        "df.loc[fildf.index, 'Budget'] = fildf['Budget'].apply(transform_to_millions)"
      ],
      "metadata": {
        "id": "MrpXQr1E2KCe"
      },
      "execution_count": 116,
      "outputs": []
    },
    {
      "cell_type": "markdown",
      "source": [
        "Lastly, a final error I found was some movies having 100 stars in them. Obviously this is not true, so I performed another mode imputation for this column that changed the stars from 100 to the mode of all the movies in the same genre."
      ],
      "metadata": {
        "id": "HkUh1Zdv4deh"
      }
    },
    {
      "cell_type": "code",
      "source": [
        "hundred_stars = df[df['Stars'] == 100]\n",
        "\n",
        "for index, row in hundred_stars.iterrows():\n",
        "    genre = row['Genre']\n",
        "    genre_mode = df[df['Genre'] == genre]['Stars'].mode().values\n",
        "    if len(genre_mode) > 0:\n",
        "        df.at[index, 'Stars'] = genre_mode[0]\n"
      ],
      "metadata": {
        "id": "k-VCc-uE5JA0"
      },
      "execution_count": 117,
      "outputs": []
    },
    {
      "cell_type": "markdown",
      "source": [
        "# Data Exploration\n",
        "\n",
        "\n",
        "\n"
      ],
      "metadata": {
        "id": "dHokHRPI66lw"
      }
    },
    {
      "cell_type": "markdown",
      "source": [
        "Does Season have a stastically significant impact on a movie's success?\n",
        "\n",
        "**p-value:** 0.0057"
      ],
      "metadata": {
        "id": "OHbNovM57Lj7"
      }
    },
    {
      "cell_type": "code",
      "source": [
        "t = pd.crosstab(df[\"Season\"], df[\"Success\"])\n",
        "t"
      ],
      "metadata": {
        "id": "XGZlyOBW65-B",
        "colab": {
          "base_uri": "https://localhost:8080/",
          "height": 0
        },
        "outputId": "cbe86d42-4cac-4dae-a3b4-d67242426a7b"
      },
      "execution_count": 118,
      "outputs": [
        {
          "output_type": "execute_result",
          "data": {
            "text/plain": [
              "Success  False  True \n",
              "Season               \n",
              "Fall        90     23\n",
              "Spring      88     10\n",
              "Summer     149     58\n",
              "Winter      95     27"
            ],
            "text/html": [
              "\n",
              "  <div id=\"df-41074be8-dd04-4263-a82f-ea8edfac0711\" class=\"colab-df-container\">\n",
              "    <div>\n",
              "<style scoped>\n",
              "    .dataframe tbody tr th:only-of-type {\n",
              "        vertical-align: middle;\n",
              "    }\n",
              "\n",
              "    .dataframe tbody tr th {\n",
              "        vertical-align: top;\n",
              "    }\n",
              "\n",
              "    .dataframe thead th {\n",
              "        text-align: right;\n",
              "    }\n",
              "</style>\n",
              "<table border=\"1\" class=\"dataframe\">\n",
              "  <thead>\n",
              "    <tr style=\"text-align: right;\">\n",
              "      <th>Success</th>\n",
              "      <th>False</th>\n",
              "      <th>True</th>\n",
              "    </tr>\n",
              "    <tr>\n",
              "      <th>Season</th>\n",
              "      <th></th>\n",
              "      <th></th>\n",
              "    </tr>\n",
              "  </thead>\n",
              "  <tbody>\n",
              "    <tr>\n",
              "      <th>Fall</th>\n",
              "      <td>90</td>\n",
              "      <td>23</td>\n",
              "    </tr>\n",
              "    <tr>\n",
              "      <th>Spring</th>\n",
              "      <td>88</td>\n",
              "      <td>10</td>\n",
              "    </tr>\n",
              "    <tr>\n",
              "      <th>Summer</th>\n",
              "      <td>149</td>\n",
              "      <td>58</td>\n",
              "    </tr>\n",
              "    <tr>\n",
              "      <th>Winter</th>\n",
              "      <td>95</td>\n",
              "      <td>27</td>\n",
              "    </tr>\n",
              "  </tbody>\n",
              "</table>\n",
              "</div>\n",
              "    <div class=\"colab-df-buttons\">\n",
              "\n",
              "  <div class=\"colab-df-container\">\n",
              "    <button class=\"colab-df-convert\" onclick=\"convertToInteractive('df-41074be8-dd04-4263-a82f-ea8edfac0711')\"\n",
              "            title=\"Convert this dataframe to an interactive table.\"\n",
              "            style=\"display:none;\">\n",
              "\n",
              "  <svg xmlns=\"http://www.w3.org/2000/svg\" height=\"24px\" viewBox=\"0 -960 960 960\">\n",
              "    <path d=\"M120-120v-720h720v720H120Zm60-500h600v-160H180v160Zm220 220h160v-160H400v160Zm0 220h160v-160H400v160ZM180-400h160v-160H180v160Zm440 0h160v-160H620v160ZM180-180h160v-160H180v160Zm440 0h160v-160H620v160Z\"/>\n",
              "  </svg>\n",
              "    </button>\n",
              "\n",
              "  <style>\n",
              "    .colab-df-container {\n",
              "      display:flex;\n",
              "      gap: 12px;\n",
              "    }\n",
              "\n",
              "    .colab-df-convert {\n",
              "      background-color: #E8F0FE;\n",
              "      border: none;\n",
              "      border-radius: 50%;\n",
              "      cursor: pointer;\n",
              "      display: none;\n",
              "      fill: #1967D2;\n",
              "      height: 32px;\n",
              "      padding: 0 0 0 0;\n",
              "      width: 32px;\n",
              "    }\n",
              "\n",
              "    .colab-df-convert:hover {\n",
              "      background-color: #E2EBFA;\n",
              "      box-shadow: 0px 1px 2px rgba(60, 64, 67, 0.3), 0px 1px 3px 1px rgba(60, 64, 67, 0.15);\n",
              "      fill: #174EA6;\n",
              "    }\n",
              "\n",
              "    .colab-df-buttons div {\n",
              "      margin-bottom: 4px;\n",
              "    }\n",
              "\n",
              "    [theme=dark] .colab-df-convert {\n",
              "      background-color: #3B4455;\n",
              "      fill: #D2E3FC;\n",
              "    }\n",
              "\n",
              "    [theme=dark] .colab-df-convert:hover {\n",
              "      background-color: #434B5C;\n",
              "      box-shadow: 0px 1px 3px 1px rgba(0, 0, 0, 0.15);\n",
              "      filter: drop-shadow(0px 1px 2px rgba(0, 0, 0, 0.3));\n",
              "      fill: #FFFFFF;\n",
              "    }\n",
              "  </style>\n",
              "\n",
              "    <script>\n",
              "      const buttonEl =\n",
              "        document.querySelector('#df-41074be8-dd04-4263-a82f-ea8edfac0711 button.colab-df-convert');\n",
              "      buttonEl.style.display =\n",
              "        google.colab.kernel.accessAllowed ? 'block' : 'none';\n",
              "\n",
              "      async function convertToInteractive(key) {\n",
              "        const element = document.querySelector('#df-41074be8-dd04-4263-a82f-ea8edfac0711');\n",
              "        const dataTable =\n",
              "          await google.colab.kernel.invokeFunction('convertToInteractive',\n",
              "                                                    [key], {});\n",
              "        if (!dataTable) return;\n",
              "\n",
              "        const docLinkHtml = 'Like what you see? Visit the ' +\n",
              "          '<a target=\"_blank\" href=https://colab.research.google.com/notebooks/data_table.ipynb>data table notebook</a>'\n",
              "          + ' to learn more about interactive tables.';\n",
              "        element.innerHTML = '';\n",
              "        dataTable['output_type'] = 'display_data';\n",
              "        await google.colab.output.renderOutput(dataTable, element);\n",
              "        const docLink = document.createElement('div');\n",
              "        docLink.innerHTML = docLinkHtml;\n",
              "        element.appendChild(docLink);\n",
              "      }\n",
              "    </script>\n",
              "  </div>\n",
              "\n",
              "\n",
              "<div id=\"df-a335a186-53a0-49de-8d69-125abc32be63\">\n",
              "  <button class=\"colab-df-quickchart\" onclick=\"quickchart('df-a335a186-53a0-49de-8d69-125abc32be63')\"\n",
              "            title=\"Suggest charts\"\n",
              "            style=\"display:none;\">\n",
              "\n",
              "<svg xmlns=\"http://www.w3.org/2000/svg\" height=\"24px\"viewBox=\"0 0 24 24\"\n",
              "     width=\"24px\">\n",
              "    <g>\n",
              "        <path d=\"M19 3H5c-1.1 0-2 .9-2 2v14c0 1.1.9 2 2 2h14c1.1 0 2-.9 2-2V5c0-1.1-.9-2-2-2zM9 17H7v-7h2v7zm4 0h-2V7h2v10zm4 0h-2v-4h2v4z\"/>\n",
              "    </g>\n",
              "</svg>\n",
              "  </button>\n",
              "\n",
              "<style>\n",
              "  .colab-df-quickchart {\n",
              "      --bg-color: #E8F0FE;\n",
              "      --fill-color: #1967D2;\n",
              "      --hover-bg-color: #E2EBFA;\n",
              "      --hover-fill-color: #174EA6;\n",
              "      --disabled-fill-color: #AAA;\n",
              "      --disabled-bg-color: #DDD;\n",
              "  }\n",
              "\n",
              "  [theme=dark] .colab-df-quickchart {\n",
              "      --bg-color: #3B4455;\n",
              "      --fill-color: #D2E3FC;\n",
              "      --hover-bg-color: #434B5C;\n",
              "      --hover-fill-color: #FFFFFF;\n",
              "      --disabled-bg-color: #3B4455;\n",
              "      --disabled-fill-color: #666;\n",
              "  }\n",
              "\n",
              "  .colab-df-quickchart {\n",
              "    background-color: var(--bg-color);\n",
              "    border: none;\n",
              "    border-radius: 50%;\n",
              "    cursor: pointer;\n",
              "    display: none;\n",
              "    fill: var(--fill-color);\n",
              "    height: 32px;\n",
              "    padding: 0;\n",
              "    width: 32px;\n",
              "  }\n",
              "\n",
              "  .colab-df-quickchart:hover {\n",
              "    background-color: var(--hover-bg-color);\n",
              "    box-shadow: 0 1px 2px rgba(60, 64, 67, 0.3), 0 1px 3px 1px rgba(60, 64, 67, 0.15);\n",
              "    fill: var(--button-hover-fill-color);\n",
              "  }\n",
              "\n",
              "  .colab-df-quickchart-complete:disabled,\n",
              "  .colab-df-quickchart-complete:disabled:hover {\n",
              "    background-color: var(--disabled-bg-color);\n",
              "    fill: var(--disabled-fill-color);\n",
              "    box-shadow: none;\n",
              "  }\n",
              "\n",
              "  .colab-df-spinner {\n",
              "    border: 2px solid var(--fill-color);\n",
              "    border-color: transparent;\n",
              "    border-bottom-color: var(--fill-color);\n",
              "    animation:\n",
              "      spin 1s steps(1) infinite;\n",
              "  }\n",
              "\n",
              "  @keyframes spin {\n",
              "    0% {\n",
              "      border-color: transparent;\n",
              "      border-bottom-color: var(--fill-color);\n",
              "      border-left-color: var(--fill-color);\n",
              "    }\n",
              "    20% {\n",
              "      border-color: transparent;\n",
              "      border-left-color: var(--fill-color);\n",
              "      border-top-color: var(--fill-color);\n",
              "    }\n",
              "    30% {\n",
              "      border-color: transparent;\n",
              "      border-left-color: var(--fill-color);\n",
              "      border-top-color: var(--fill-color);\n",
              "      border-right-color: var(--fill-color);\n",
              "    }\n",
              "    40% {\n",
              "      border-color: transparent;\n",
              "      border-right-color: var(--fill-color);\n",
              "      border-top-color: var(--fill-color);\n",
              "    }\n",
              "    60% {\n",
              "      border-color: transparent;\n",
              "      border-right-color: var(--fill-color);\n",
              "    }\n",
              "    80% {\n",
              "      border-color: transparent;\n",
              "      border-right-color: var(--fill-color);\n",
              "      border-bottom-color: var(--fill-color);\n",
              "    }\n",
              "    90% {\n",
              "      border-color: transparent;\n",
              "      border-bottom-color: var(--fill-color);\n",
              "    }\n",
              "  }\n",
              "</style>\n",
              "\n",
              "  <script>\n",
              "    async function quickchart(key) {\n",
              "      const quickchartButtonEl =\n",
              "        document.querySelector('#' + key + ' button');\n",
              "      quickchartButtonEl.disabled = true;  // To prevent multiple clicks.\n",
              "      quickchartButtonEl.classList.add('colab-df-spinner');\n",
              "      try {\n",
              "        const charts = await google.colab.kernel.invokeFunction(\n",
              "            'suggestCharts', [key], {});\n",
              "      } catch (error) {\n",
              "        console.error('Error during call to suggestCharts:', error);\n",
              "      }\n",
              "      quickchartButtonEl.classList.remove('colab-df-spinner');\n",
              "      quickchartButtonEl.classList.add('colab-df-quickchart-complete');\n",
              "    }\n",
              "    (() => {\n",
              "      let quickchartButtonEl =\n",
              "        document.querySelector('#df-a335a186-53a0-49de-8d69-125abc32be63 button');\n",
              "      quickchartButtonEl.style.display =\n",
              "        google.colab.kernel.accessAllowed ? 'block' : 'none';\n",
              "    })();\n",
              "  </script>\n",
              "</div>\n",
              "    </div>\n",
              "  </div>\n"
            ]
          },
          "metadata": {},
          "execution_count": 118
        }
      ]
    },
    {
      "cell_type": "code",
      "source": [
        "stat, p, dof, freq = sp.stats.chi2_contingency(t)\n",
        "p"
      ],
      "metadata": {
        "id": "5PFyupUn7ZWa",
        "outputId": "b2125090-6473-4126-e42a-137569eb3041",
        "colab": {
          "base_uri": "https://localhost:8080/"
        }
      },
      "execution_count": 119,
      "outputs": [
        {
          "output_type": "execute_result",
          "data": {
            "text/plain": [
              "0.005716268505111858"
            ]
          },
          "metadata": {},
          "execution_count": 119
        }
      ]
    },
    {
      "cell_type": "markdown",
      "source": [
        "Yes, Season has a statistically significant impact on a movies success. According ot the p value of 0.0057, which is less than 0.05, the null hypothesis that there is no statistical significance can be rejected."
      ],
      "metadata": {
        "id": "bRTxitWa8XvH"
      }
    },
    {
      "cell_type": "markdown",
      "source": [
        "Do seasons have a statistically significant difference in their distribution of content ratings?\n",
        "\n",
        "**p-value:** 0.215"
      ],
      "metadata": {
        "id": "OM6_URSkBXDz"
      }
    },
    {
      "cell_type": "code",
      "source": [
        "t = pd.crosstab(df['Season'], df['Rating'])\n",
        "stat, p, dof, freq = sp.stats.chi2_contingency(t)\n",
        "p"
      ],
      "metadata": {
        "id": "GtSbRZxOBeXC",
        "colab": {
          "base_uri": "https://localhost:8080/"
        },
        "outputId": "9abde603-ca52-4b07-d773-15b0c0489578"
      },
      "execution_count": 120,
      "outputs": [
        {
          "output_type": "execute_result",
          "data": {
            "text/plain": [
              "0.21507814500508263"
            ]
          },
          "metadata": {},
          "execution_count": 120
        }
      ]
    },
    {
      "cell_type": "markdown",
      "source": [
        "No, Season does not have a statistically significant impact on a movies distribution of content ratings. According ot the p value of 0.215, which is greater than 0.05, the null hypothesis that there is no statistical significance should not be rejected."
      ],
      "metadata": {
        "id": "kw2nY7rZ-Czn"
      }
    },
    {
      "cell_type": "markdown",
      "source": [
        "Who is the harshest critic (highest precent of negative reviews)?\n",
        "\n",
        "**Critic:** R1_compound"
      ],
      "metadata": {
        "id": "rbhSWWp37M2Z"
      }
    },
    {
      "cell_type": "code",
      "source": [
        "# must do some weird NLP stuff\n",
        "\n",
        "from nltk.sentiment.vader import SentimentIntensityAnalyzer\n",
        "import nltk\n",
        "nltk.download('vader_lexicon')\n",
        "\n",
        "s = SentimentIntensityAnalyzer()\n",
        "\n",
        "df['R1_scores'] = df['R1'].apply(lambda x: s.polarity_scores(x))\n",
        "df['R2_scores'] = df['R2'].apply(lambda x: s.polarity_scores(x))\n",
        "df['R3_scores'] = df['R3'].apply(lambda x: s.polarity_scores(x))\n",
        "\n",
        "df['R1_tot'] = df['R1_scores'].apply(lambda x: x['compound'])\n",
        "df['R2_tot'] = df['R2_scores'].apply(lambda x: x['compound'])\n",
        "df['R3_tot'] = df['R3_scores'].apply(lambda x: x['compound'])\n",
        "\n",
        "df['harshest_critic'] = df[['R1_tot', 'R2_tot', 'R3_tot']].idxmin(axis=1)\n",
        "\n",
        "df['harshest_critic'].value_counts()"
      ],
      "metadata": {
        "id": "92CUkllO7Slx",
        "colab": {
          "base_uri": "https://localhost:8080/"
        },
        "outputId": "2d0e0a63-fc3e-470c-8e0d-908977de4345"
      },
      "execution_count": 121,
      "outputs": [
        {
          "output_type": "stream",
          "name": "stderr",
          "text": [
            "[nltk_data] Downloading package vader_lexicon to /root/nltk_data...\n",
            "[nltk_data]   Package vader_lexicon is already up-to-date!\n"
          ]
        },
        {
          "output_type": "execute_result",
          "data": {
            "text/plain": [
              "R1_tot    248\n",
              "R2_tot    164\n",
              "R3_tot    128\n",
              "Name: harshest_critic, dtype: int64"
            ]
          },
          "metadata": {},
          "execution_count": 121
        }
      ]
    },
    {
      "cell_type": "markdown",
      "source": [
        "What is the covariance between promotional budget and the filming budget?\n",
        "\n",
        "**Cov:** 1907.05"
      ],
      "metadata": {
        "id": "3H5DlS_E7S1u"
      }
    },
    {
      "cell_type": "code",
      "source": [
        "cov = df[['Budget', 'Promo']].cov()\n",
        "cov.loc['Budget', 'Promo']"
      ],
      "metadata": {
        "id": "9ZCJ4P-l7lrE",
        "colab": {
          "base_uri": "https://localhost:8080/"
        },
        "outputId": "db0281fe-b0bc-40ad-b9c3-05418b5b7c62"
      },
      "execution_count": 122,
      "outputs": [
        {
          "output_type": "execute_result",
          "data": {
            "text/plain": [
              "1907.0543228223628"
            ]
          },
          "metadata": {},
          "execution_count": 122
        }
      ]
    },
    {
      "cell_type": "markdown",
      "source": [
        "# Data Visualization"
      ],
      "metadata": {
        "id": "eiTujTFw7orS"
      }
    },
    {
      "cell_type": "markdown",
      "source": [
        "Create a chart that compares the distribution of the budget for each different number of stars. (It does not need to be particularly appealing."
      ],
      "metadata": {
        "id": "e907N-i-7r5N"
      }
    },
    {
      "cell_type": "code",
      "source": [
        "import matplotlib.pyplot as plt\n",
        "import seaborn as sns\n",
        "\n",
        "sns.histplot(x='Stars', y='Budget', data=df)\n",
        "plt.title('Budget Distribution for Each Number of Stars')\n",
        "plt.show()"
      ],
      "metadata": {
        "id": "DZubydmS8eME",
        "colab": {
          "base_uri": "https://localhost:8080/",
          "height": 0
        },
        "outputId": "42f887e1-bd0d-488e-e120-ee685749424e"
      },
      "execution_count": 123,
      "outputs": [
        {
          "output_type": "display_data",
          "data": {
            "text/plain": [
              "<Figure size 640x480 with 1 Axes>"
            ],
            "image/png": "[encoded data removed]"
          },
          "metadata": {}
        }
      ]
    },
    {
      "cell_type": "markdown",
      "source": [
        "Create a graph showing the average movie budget over time."
      ],
      "metadata": {
        "id": "tUut9r0u8eYu"
      }
    },
    {
      "cell_type": "code",
      "source": [
        "df_avg = df.groupby(df['Year'])['Budget'].mean().reset_index()\n",
        "plt.plot(df_avg['Year'], df_avg['Budget'])\n",
        "plt.title('Average Movie Budget Over Time')\n",
        "plt.xlabel('Year')\n",
        "plt.ylabel('Average Budget')\n",
        "plt.show()"
      ],
      "metadata": {
        "id": "ZG9Fc95v8qRf",
        "colab": {
          "base_uri": "https://localhost:8080/",
          "height": 0
        },
        "outputId": "9d4683d7-fe3f-481e-e90d-d4aa5783b6bd"
      },
      "execution_count": 124,
      "outputs": [
        {
          "output_type": "display_data",
          "data": {
            "text/plain": [
              "<Figure size 640x480 with 1 Axes>"
            ],
            "image/png": "[encoded data removed]"
          },
          "metadata": {}
        }
      ]
    },
    {
      "cell_type": "markdown",
      "source": [
        "# Feature Engineering\n",
        "\n",
        "List any features you choose to create (if you are creating many features based on one column, you do not need to list them separately.) You are not required to create any features if you do not wish to. You may create any number of additional features.\n",
        "\n",
        "\n",
        "*\n",
        "*"
      ],
      "metadata": {
        "id": "_UqUj1uy80Re"
      }
    },
    {
      "cell_type": "code",
      "source": [
        "df = df.drop([\"R1_scores\",\"R2_scores\", \"R3_scores\"], axis = 1)\n"
      ],
      "metadata": {
        "id": "npGhyN7uMGKC"
      },
      "execution_count": 125,
      "outputs": []
    },
    {
      "cell_type": "code",
      "source": [
        "df = pd.get_dummies(df, columns = [\"Rating\", \"Season\", \"Genre\"])\n"
      ],
      "metadata": {
        "id": "zX9EeUKA9c5n"
      },
      "execution_count": 126,
      "outputs": []
    },
    {
      "cell_type": "code",
      "source": [
        "from sklearn.preprocessing import MinMaxScaler\n",
        "scaler = MinMaxScaler()\n",
        "df['Year'] = scaler.fit_transform(df[[\"Year\"]])\n",
        "df['Runtime'] = scaler.fit_transform(df[[\"Runtime\"]])\n",
        "df['Budget'] = scaler.fit_transform(df[[\"Budget\"]])\n",
        "df['Promo'] = scaler.fit_transform(df[[\"Promo\"]])"
      ],
      "metadata": {
        "id": "aeiDwzhdyCnS"
      },
      "execution_count": 127,
      "outputs": []
    },
    {
      "cell_type": "code",
      "source": [
        "df = df.drop(['Title', 'R1', 'R2', 'R3',\"harshest_critic\", \"Unnamed: 0\"], axis=1)\n",
        "df.columns"
      ],
      "metadata": {
        "id": "2QtiWeslS7kN",
        "outputId": "fd2e37ce-8a2b-442e-bfa0-6a199d1199e1",
        "colab": {
          "base_uri": "https://localhost:8080/"
        }
      },
      "execution_count": 128,
      "outputs": [
        {
          "output_type": "execute_result",
          "data": {
            "text/plain": [
              "Index(['Runtime', 'Stars', 'Year', 'Budget', 'Promo', 'Success', 'R1_tot',\n",
              "       'R2_tot', 'R3_tot', 'Rating_PG', 'Rating_PG13', 'Rating_R',\n",
              "       'Season_Fall', 'Season_Spring', 'Season_Summer', 'Season_Winter',\n",
              "       'Genre_Action', 'Genre_Drama', 'Genre_Fantasy', 'Genre_Romantic Comedy',\n",
              "       'Genre_Science fiction'],\n",
              "      dtype='object')"
            ]
          },
          "metadata": {},
          "execution_count": 128
        }
      ]
    },
    {
      "cell_type": "markdown",
      "source": [
        "# Modeling\n",
        "\n",
        "Create a model of your choice.\n",
        "\n",
        "**Model type choosen:** Random Forest"
      ],
      "metadata": {
        "id": "bj3Rdh229dLW"
      }
    },
    {
      "cell_type": "code",
      "source": [
        "from sklearn.model_selection import train_test_split\n",
        "from sklearn.ensemble import RandomForestClassifier\n",
        "from sklearn.metrics import accuracy_score, confusion_matrix, ConfusionMatrixDisplay\n",
        "\n",
        "rf = RandomForestClassifier(max_depth = 10)"
      ],
      "metadata": {
        "id": "b-adaG_K9mIz"
      },
      "execution_count": 135,
      "outputs": []
    },
    {
      "cell_type": "markdown",
      "source": [
        "# Testing"
      ],
      "metadata": {
        "id": "GY8VzL3J9mUi"
      }
    },
    {
      "cell_type": "markdown",
      "source": [
        "Shuffle your data and break it into a 10% test set and 90% training set. Show your model's accuracy on the test set. In order to get full credit, the model's accuracy must be higher than 50%.\n",
        "\n",
        "**Model accuracy:** 0.759"
      ],
      "metadata": {
        "id": "ZeLtWCur9p7x"
      }
    },
    {
      "cell_type": "code",
      "source": [
        "X = df.drop('Success', axis=1)\n",
        "Y = df['Success']\n",
        "\n",
        "\n",
        "\n",
        "X_train, X_test, Y_train, Y_test = train_test_split(X, Y, test_size=0.1, train_size =0.9, random_state=0)\n",
        "rf.fit(X_train, Y_train)\n",
        "\n",
        "prob_preds = rf.predict_proba(X_test)\n",
        "threshold = 0.23\n",
        "Y_pred = [True if prob_preds[i][1]> threshold else False for i in range(len(prob_preds))]\n",
        "\n",
        "#Y_pred = rf.predict(X_test)\n",
        "accuracy_score(Y_test, Y_pred)"
      ],
      "metadata": {
        "id": "D4TIzTVT9o59",
        "colab": {
          "base_uri": "https://localhost:8080/"
        },
        "outputId": "49a84026-5be7-4f46-85ae-a4afca87874f"
      },
      "execution_count": 130,
      "outputs": [
        {
          "output_type": "execute_result",
          "data": {
            "text/plain": [
              "0.7592592592592593"
            ]
          },
          "metadata": {},
          "execution_count": 130
        }
      ]
    },
    {
      "cell_type": "code",
      "source": [
        "rf"
      ],
      "metadata": {
        "id": "11mpG4Sj3vNU",
        "outputId": "e90d36b8-54f7-4567-ac2d-903b5f172d56",
        "colab": {
          "base_uri": "https://localhost:8080/",
          "height": 75
        }
      },
      "execution_count": 131,
      "outputs": [
        {
          "output_type": "execute_result",
          "data": {
            "text/plain": [
              "RandomForestClassifier(max_depth=10)"
            ],
            "text/html": [
              "<style>#sk-container-id-6 {color: black;background-color: white;}#sk-container-id-6 pre{padding: 0;}#sk-container-id-6 div.sk-toggleable {background-color: white;}#sk-container-id-6 label.sk-toggleable__label {cursor: pointer;display: block;width: 100%;margin-bottom: 0;padding: 0.3em;box-sizing: border-box;text-align: center;}#sk-container-id-6 label.sk-toggleable__label-arrow:before {content: \"▸\";float: left;margin-right: 0.25em;color: #696969;}#sk-container-id-6 label.sk-toggleable__label-arrow:hover:before {color: black;}#sk-container-id-6 div.sk-estimator:hover label.sk-toggleable__label-arrow:before {color: black;}#sk-container-id-6 div.sk-toggleable__content {max-height: 0;max-width: 0;overflow: hidden;text-align: left;background-color: #f0f8ff;}#sk-container-id-6 div.sk-toggleable__content pre {margin: 0.2em;color: black;border-radius: 0.25em;background-color: #f0f8ff;}#sk-container-id-6 input.sk-toggleable__control:checked~div.sk-toggleable__content {max-height: 200px;max-width: 100%;overflow: auto;}#sk-container-id-6 input.sk-toggleable__control:checked~label.sk-toggleable__label-arrow:before {content: \"▾\";}#sk-container-id-6 div.sk-estimator input.sk-toggleable__control:checked~label.sk-toggleable__label {background-color: #d4ebff;}#sk-container-id-6 div.sk-label input.sk-toggleable__control:checked~label.sk-toggleable__label {background-color: #d4ebff;}#sk-container-id-6 input.sk-hidden--visually {border: 0;clip: rect(1px 1px 1px 1px);clip: rect(1px, 1px, 1px, 1px);height: 1px;margin: -1px;overflow: hidden;padding: 0;position: absolute;width: 1px;}#sk-container-id-6 div.sk-estimator {font-family: monospace;background-color: #f0f8ff;border: 1px dotted black;border-radius: 0.25em;box-sizing: border-box;margin-bottom: 0.5em;}#sk-container-id-6 div.sk-estimator:hover {background-color: #d4ebff;}#sk-container-id-6 div.sk-parallel-item::after {content: \"\";width: 100%;border-bottom: 1px solid gray;flex-grow: 1;}#sk-container-id-6 div.sk-label:hover label.sk-toggleable__label {background-color: #d4ebff;}#sk-container-id-6 div.sk-serial::before {content: \"\";position: absolute;border-left: 1px solid gray;box-sizing: border-box;top: 0;bottom: 0;left: 50%;z-index: 0;}#sk-container-id-6 div.sk-serial {display: flex;flex-direction: column;align-items: center;background-color: white;padding-right: 0.2em;padding-left: 0.2em;position: relative;}#sk-container-id-6 div.sk-item {position: relative;z-index: 1;}#sk-container-id-6 div.sk-parallel {display: flex;align-items: stretch;justify-content: center;background-color: white;position: relative;}#sk-container-id-6 div.sk-item::before, #sk-container-id-6 div.sk-parallel-item::before {content: \"\";position: absolute;border-left: 1px solid gray;box-sizing: border-box;top: 0;bottom: 0;left: 50%;z-index: -1;}#sk-container-id-6 div.sk-parallel-item {display: flex;flex-direction: column;z-index: 1;position: relative;background-color: white;}#sk-container-id-6 div.sk-parallel-item:first-child::after {align-self: flex-end;width: 50%;}#sk-container-id-6 div.sk-parallel-item:last-child::after {align-self: flex-start;width: 50%;}#sk-container-id-6 div.sk-parallel-item:only-child::after {width: 0;}#sk-container-id-6 div.sk-dashed-wrapped {border: 1px dashed gray;margin: 0 0.4em 0.5em 0.4em;box-sizing: border-box;padding-bottom: 0.4em;background-color: white;}#sk-container-id-6 div.sk-label label {font-family: monospace;font-weight: bold;display: inline-block;line-height: 1.2em;}#sk-container-id-6 div.sk-label-container {text-align: center;}#sk-container-id-6 div.sk-container {/* jupyter's `normalize.less` sets `[hidden] { display: none; }` but bootstrap.min.css set `[hidden] { display: none !important; }` so we also need the `!important` here to be able to override the default hidden behavior on the sphinx rendered scikit-learn.org. See: https://github.com/scikit-learn/scikit-learn/issues/21755 */display: inline-block !important;position: relative;}#sk-container-id-6 div.sk-text-repr-fallback {display: none;}</style><div id=\"sk-container-id-6\" class=\"sk-top-container\"><div class=\"sk-text-repr-fallback\"><pre>RandomForestClassifier(max_depth=10)</pre><b>In a Jupyter environment, please rerun this cell to show the HTML representation or trust the notebook. <br />On GitHub, the HTML representation is unable to render, please try loading this page with nbviewer.org.</b></div><div class=\"sk-container\" hidden><div class=\"sk-item\"><div class=\"sk-estimator sk-toggleable\"><input class=\"sk-toggleable__control sk-hidden--visually\" id=\"sk-estimator-id-6\" type=\"checkbox\" checked><label for=\"sk-estimator-id-6\" class=\"sk-toggleable__label sk-toggleable__label-arrow\">RandomForestClassifier</label><div class=\"sk-toggleable__content\"><pre>RandomForestClassifier(max_depth=10)</pre></div></div></div></div></div>"
            ]
          },
          "metadata": {},
          "execution_count": 131
        }
      ]
    },
    {
      "cell_type": "markdown",
      "source": [
        "Show the confusion matrix for your model. To get full credit, your false positive rate and false negative rate must be under 30%.\n",
        "\n",
        "\n",
        "**False negative rate:** 0.143\n",
        "\n",
        "**False positive rate:** 0.275"
      ],
      "metadata": {
        "id": "qHtRp8Ip9qAW"
      }
    },
    {
      "cell_type": "code",
      "source": [
        "c = confusion_matrix(Y_test, Y_pred)\n",
        "display = ConfusionMatrixDisplay(c, display_labels=['Successful', 'Unsuccessful'])\n",
        "display.plot()\n",
        "\n",
        "FP = c[0, 1]\n",
        "FN = c[1, 0]\n",
        "TP = c[1, 1]\n",
        "TN = c[0, 0]\n",
        "\n",
        "\n",
        "FPR = FP/(FP + TN)\n",
        "FNR = FN/(FN + TP)\n",
        "\n",
        "print(FPR)\n",
        "print(FNR)"
      ],
      "metadata": {
        "id": "8-sgv2Ix_Adj",
        "colab": {
          "base_uri": "https://localhost:8080/",
          "height": 485
        },
        "outputId": "583abb91-548a-4c12-f789-6374ee740541"
      },
      "execution_count": 132,
      "outputs": [
        {
          "output_type": "stream",
          "name": "stdout",
          "text": [
            "0.275\n",
            "0.14285714285714285\n"
          ]
        },
        {
          "output_type": "display_data",
          "data": {
            "text/plain": [
              "<Figure size 640x480 with 2 Axes>"
            ],
            "image/png": "[encoded data removed]"
          },
          "metadata": {}
        }
      ]
    },
    {
      "cell_type": "markdown",
      "source": [
        "What was the most important feature for your model? Don't guess, either look up how to check or do your own tests.\n",
        "\n",
        "**Most important feature:** R1_tot\n"
      ],
      "metadata": {
        "id": "VdxaHXn5_Jt_"
      }
    },
    {
      "cell_type": "code",
      "source": [
        "importances = rf.feature_importances_\n",
        "df2 = df.drop(\"Success\", axis=1)\n",
        "print(len(df2.columns))\n",
        "\n",
        "feature_names = df.columns\n",
        "importances_df = pd.DataFrame({'feature': df2.columns, 'importance': importances})\n",
        "importances_df = importances_df.sort_values('importance', ascending=False)\n",
        "\n",
        "plt.figure(figsize=(20, 10))\n",
        "plt.bar(importances_df['feature'], importances_df['importance'])\n",
        "plt.title('Feature Importances')\n",
        "plt.xlabel('Features')\n",
        "plt.ylabel('Importance')\n",
        "plt.show()\n",
        "\n"
      ],
      "metadata": {
        "id": "fTgKIBvV_swo",
        "colab": {
          "base_uri": "https://localhost:8080/",
          "height": 545
        },
        "outputId": "addef6f5-c39f-4499-9a63-cda8733fdef9"
      },
      "execution_count": 134,
      "outputs": [
        {
          "output_type": "stream",
          "name": "stdout",
          "text": [
            "20\n"
          ]
        },
        {
          "output_type": "display_data",
          "data": {
            "text/plain": [
              "<Figure size 2000x1000 with 1 Axes>"
            ],
            "image/png": "[encoded data removed]"
          },
          "metadata": {}
        }
      ]
    }
  ]
}